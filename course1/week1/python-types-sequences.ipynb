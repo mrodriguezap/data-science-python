{
 "cells": [
  {
   "cell_type": "markdown",
   "metadata": {},
   "source": [
    "# Types and Sequences"
   ]
  },
  {
   "cell_type": "code",
   "execution_count": 1,
   "metadata": {},
   "outputs": [
    {
     "data": {
      "text/plain": [
       "str"
      ]
     },
     "execution_count": 1,
     "metadata": {},
     "output_type": "execute_result"
    }
   ],
   "source": [
    "# string\n",
    "type(\"This is a string\")"
   ]
  },
  {
   "cell_type": "code",
   "execution_count": 2,
   "metadata": {},
   "outputs": [
    {
     "data": {
      "text/plain": [
       "NoneType"
      ]
     },
     "execution_count": 2,
     "metadata": {},
     "output_type": "execute_result"
    }
   ],
   "source": [
    "# none type\n",
    "type(None)"
   ]
  },
  {
   "cell_type": "code",
   "execution_count": 3,
   "metadata": {},
   "outputs": [
    {
     "data": {
      "text/plain": [
       "int"
      ]
     },
     "execution_count": 3,
     "metadata": {},
     "output_type": "execute_result"
    }
   ],
   "source": [
    "# int\n",
    "type(1)"
   ]
  },
  {
   "cell_type": "code",
   "execution_count": 4,
   "metadata": {},
   "outputs": [
    {
     "data": {
      "text/plain": [
       "float"
      ]
     },
     "execution_count": 4,
     "metadata": {},
     "output_type": "execute_result"
    }
   ],
   "source": [
    "# float\n",
    "type(1.0)"
   ]
  },
  {
   "cell_type": "code",
   "execution_count": 5,
   "metadata": {},
   "outputs": [
    {
     "data": {
      "text/plain": [
       "function"
      ]
     },
     "execution_count": 5,
     "metadata": {},
     "output_type": "execute_result"
    }
   ],
   "source": [
    "def add_numbers(x, y):\n",
    "    return x + y\n",
    "\n",
    "type(add_numbers)"
   ]
  },
  {
   "cell_type": "code",
   "execution_count": 7,
   "metadata": {},
   "outputs": [
    {
     "data": {
      "text/plain": [
       "tuple"
      ]
     },
     "execution_count": 7,
     "metadata": {},
     "output_type": "execute_result"
    }
   ],
   "source": [
    "# tuple. Tuples are inmutable, the cannot be changed once created\n",
    "x = (1, \"a\", 2, \"b\")\n",
    "type(x)"
   ]
  },
  {
   "cell_type": "code",
   "execution_count": 9,
   "metadata": {},
   "outputs": [
    {
     "name": "stdout",
     "output_type": "stream",
     "text": [
      "[1, 'a', 2, 'b']\n",
      "[1, 'a', 2, 'b', 3.3]\n",
      "1\n",
      "a\n",
      "2\n",
      "b\n",
      "3.3\n"
     ]
    }
   ],
   "source": [
    "# list. Values can be changed\n",
    "x = [1, \"a\", 2, \"b\"]\n",
    "print(x)\n",
    "x.append(3.3)\n",
    "print(x)\n",
    "\n",
    "for item in x:\n",
    "    print(item)"
   ]
  },
  {
   "cell_type": "code",
   "execution_count": 10,
   "metadata": {},
   "outputs": [
    {
     "data": {
      "text/plain": [
       "[1, 2, 3, 4]"
      ]
     },
     "execution_count": 10,
     "metadata": {},
     "output_type": "execute_result"
    }
   ],
   "source": [
    "# concatenate lists\n",
    "[1, 2] + [3, 4]"
   ]
  },
  {
   "cell_type": "code",
   "execution_count": 12,
   "metadata": {},
   "outputs": [
    {
     "data": {
      "text/plain": [
       "[1, 1, 1]"
      ]
     },
     "execution_count": 12,
     "metadata": {},
     "output_type": "execute_result"
    }
   ],
   "source": [
    "# repeat the values of a list\n",
    "[1] * 3"
   ]
  },
  {
   "cell_type": "code",
   "execution_count": 13,
   "metadata": {},
   "outputs": [
    {
     "data": {
      "text/plain": [
       "True"
      ]
     },
     "execution_count": 13,
     "metadata": {},
     "output_type": "execute_result"
    }
   ],
   "source": [
    "# the in operator\n",
    "x = [1, 2,3]\n",
    "1 in x"
   ]
  },
  {
   "cell_type": "code",
   "execution_count": 24,
   "metadata": {},
   "outputs": [
    {
     "name": "stdout",
     "output_type": "stream",
     "text": [
      "First element: T\n",
      "First element: T\n",
      "first two elements: Th\n",
      "Last element by negative indexing: g\n",
      "Fourth last to the second last position: ri\n",
      "First three elements: Thi\n",
      "Elements from three ahead: s is a string\n"
     ]
    }
   ],
   "source": [
    "# pyton does not take the last element of a slice\n",
    "x = \"This is a string\"\n",
    "print(f\"First element: {x[0]}\")\n",
    "print(f\"First element: {x[0:1]}\")\n",
    "print(f\"first two elements: {x[0:2]}\")\n",
    "print(f\"Last element by negative indexing: {x[-1]}\")\n",
    "print(f\"Fourth last to the second last position: {x[-4:-2]}\")\n",
    "print(f\"First three elements: {x[:3]}\")\n",
    "print(f\"Elements from three ahead: {x[3:]}\")"
   ]
  },
  {
   "cell_type": "code",
   "execution_count": 28,
   "metadata": {},
   "outputs": [
    {
     "name": "stdout",
     "output_type": "stream",
     "text": [
      "Christopher Brooks\n",
      "ChristopherChristopherChristopher\n",
      "True\n",
      "Christopher\n",
      "Brooks\n"
     ]
    }
   ],
   "source": [
    "# strings\n",
    "firstname = \"Christopher\"\n",
    "lastname = \"Brooks\"\n",
    "\n",
    "print(firstname + \" \" + lastname)\n",
    "print(firstname * 3)\n",
    "print(\"Chris\" in firstname)\n",
    "\n",
    "# split\n",
    "complete = \"Christopher Arthur Hansen Brooks\"\n",
    "firstname = complete.split(\" \")[0]\n",
    "lasttname = complete.split(\" \")[-1]\n",
    "print(firstname)\n",
    "print(lastname)"
   ]
  },
  {
   "cell_type": "code",
   "execution_count": 37,
   "metadata": {},
   "outputs": [
    {
     "name": "stdout",
     "output_type": "stream",
     "text": [
      "correo1\n",
      "None\n",
      "correo1\n",
      "correo2\n",
      "None\n",
      "correo1\n",
      "correo2\n",
      "None\n",
      "Marlon\n",
      "correo1\n",
      "Paula\n",
      "correo2\n",
      "Edith\n",
      "None\n"
     ]
    }
   ],
   "source": [
    "# dictionaries\n",
    "x = {\"Marlon\": \"correo1\", \"Paula\": \"correo2\"}\n",
    "print(x[\"Marlon\"])\n",
    "\n",
    "# add elements to dict\n",
    "x[\"Edith\"] = None\n",
    "print(x[\"Edith\"])\n",
    "\n",
    "# iterate in dict\n",
    "for name in x:\n",
    "    print(x[name])\n",
    "\n",
    "for name in x.values():\n",
    "    print(name)\n",
    "\n",
    "# items function\n",
    "for name, email in x.items():\n",
    "    print(name)\n",
    "    print(email)\n"
   ]
  },
  {
   "cell_type": "code",
   "execution_count": 43,
   "metadata": {},
   "outputs": [
    {
     "name": "stdout",
     "output_type": "stream",
     "text": [
      "Marlon Orlando path\n",
      "Marlon Orlando path\n"
     ]
    }
   ],
   "source": [
    "# unpacking with list and tuple\n",
    "x = [\"Marlon\", \"Orlando\", \"path\"]\n",
    "fname, lname, email = x\n",
    "print(fname, lname, email)\n",
    "y = (\"Marlon\", \"Orlando\", \"path\")\n",
    "fname, lname, email = y\n",
    "print(fname, lname, email)"
   ]
  },
  {
   "cell_type": "code",
   "execution_count": null,
   "metadata": {},
   "outputs": [],
   "source": []
  }
 ],
 "metadata": {
  "interpreter": {
   "hash": "c73388f53ecef310d86abc651324adec0e7e08133939e6b50f19f75f98627f71"
  },
  "kernelspec": {
   "display_name": "Python 3.8.8 32-bit (conda)",
   "language": "python",
   "name": "python3"
  },
  "language_info": {
   "codemirror_mode": {
    "name": "ipython",
    "version": 3
   },
   "file_extension": ".py",
   "mimetype": "text/x-python",
   "name": "python",
   "nbconvert_exporter": "python",
   "pygments_lexer": "ipython3",
   "version": "3.8.8"
  },
  "orig_nbformat": 4
 },
 "nbformat": 4,
 "nbformat_minor": 2
}
